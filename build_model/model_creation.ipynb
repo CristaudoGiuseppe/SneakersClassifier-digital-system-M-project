{
 "cells": [
  {
   "cell_type": "code",
   "execution_count": 1,
   "id": "256924db",
   "metadata": {},
   "outputs": [],
   "source": [
    "# imports\n",
    "import matplotlib.pyplot as plt\n",
    "import numpy as np\n",
    "import os\n",
    "import tensorflow as tf\n",
    "import pathlib\n",
    "import PIL\n",
    "\n",
    "from tensorflow.keras.preprocessing.image import ImageDataGenerator \n",
    "from keras.applications.imagenet_utils import decode_predictions\n",
    "from keras import applications\n",
    "from tensorflow import keras\n",
    "from tensorflow.keras import layers\n",
    "from tensorflow.keras.models import Sequential"
   ]
  },
  {
   "cell_type": "code",
   "execution_count": 9,
   "id": "2440e3e8",
   "metadata": {},
   "outputs": [],
   "source": [
    "batch_size = 32\n",
    "IMG_SIZE = 224\n",
    "IMG_SIZE = 224"
   ]
  },
  {
   "cell_type": "code",
   "execution_count": 41,
   "id": "2eb99446",
   "metadata": {},
   "outputs": [
    {
     "name": "stdout",
     "output_type": "stream",
     "text": [
      "Successfully loaded 5620 images\n",
      "Found 5616 files belonging to 8 classes.\n",
      "Using 4493 files for training.\n",
      "Found 5616 files belonging to 8 classes.\n",
      "Using 1123 files for validation.\n",
      "Dataset has 8 labels: ['airmax1', 'blazer', 'jordan11', 'jordan1_high', 'jordan4', 'yeezy350', 'yeezy700', 'yeezy_slide']\n"
     ]
    }
   ],
   "source": [
    "path = \"data\"\n",
    "epochs = 10 \n",
    "\n",
    "\n",
    "def generate_model():\n",
    "    load_data(path)\n",
    "    class_names, train_ds, val ds = train_val_split(path)\n",
    "    base_model = define_model(len(class_names))\n",
    "    train_model(epochs, base_model, train_ds, val_ds)\n",
    "    save_model(base_model)"
   ]
  },
  {
   "cell_type": "markdown",
   "id": "6f5aaf20",
   "metadata": {},
   "source": [
    "### 0. Load images from data folder"
   ]
  },
  {
   "cell_type": "code",
   "execution_count": 6,
   "id": "5ea37fc8",
   "metadata": {},
   "outputs": [],
   "source": [
    "def load_data(path):\n",
    "    data_dir = path\n",
    "    data_dir = pathlib.Path(data_dir)\n",
    "    image_count = len(list(data_dir.glob('*/*')))\n",
    "    print(f\"Successfully loaded {image_count} images\")\n",
    "    return data_dir"
   ]
  },
  {
   "cell_type": "markdown",
   "id": "6059252e",
   "metadata": {},
   "source": [
    "### 1. Split data into train and validation dataset"
   ]
  },
  {
   "cell_type": "code",
   "execution_count": 7,
   "id": "8a2bf592",
   "metadata": {},
   "outputs": [],
   "source": [
    "# 20% of images used for validation\n",
    "\n",
    "def train_val_split(data_dir):\n",
    "    train_ds = tf.keras.preprocessing.image_dataset_from_directory(\n",
    "        data_dir,\n",
    "        labels = 'inferred',\n",
    "        validation_split = 0.2,\n",
    "        subset = \"training\",\n",
    "        seed = 123,\n",
    "        image_size = (img_height, img_width),\n",
    "        batch_size = batch_size)\n",
    "\n",
    "    val_ds = tf.keras.utils.image_dataset_from_directory(\n",
    "        data_dir,\n",
    "        labels = 'inferred',\n",
    "        validation_split = 0.2,\n",
    "        subset = \"validation\",\n",
    "        seed = 123,\n",
    "        image_size = (img_height, img_width),\n",
    "        batch_size = batch_size\n",
    "    )\n",
    "    \n",
    "    \n",
    "    class_names = train_ds.class_names\n",
    "    print()\n",
    "    print(f\"Dataset has {len(class_names)} labels: {class_names}\")\n",
    "    return class_names, train_ds, val_ds"
   ]
  },
  {
   "cell_type": "markdown",
   "id": "412e6a40",
   "metadata": {},
   "source": [
    "### 2. Define model"
   ]
  },
  {
   "cell_type": "code",
   "execution_count": 6,
   "id": "4230cd1e",
   "metadata": {},
   "outputs": [
    {
     "name": "stdout",
     "output_type": "stream",
     "text": [
      "['jordan1_high', 'new_700', 'new_dunk', 'new_jordan4', 'yeezy350']\n"
     ]
    }
   ],
   "source": [
    "# after multiple researches and test, ResNet 50 seems to be the best convolutional neural network\n",
    "\n",
    "from tensorflow.keras.applications import ResNet50\n",
    "from tensorflow.python.keras.layers import Dense, Flatten, GlobalAveragePooling2D\n",
    "\n",
    "def define_model(num_classes):\n",
    "    IMG_SHAPE = (IMG_SIZE, IMG_SIZE, 3)\n",
    "\n",
    "    # Create the base model from the pre-trained model MobileNet V2\n",
    "    base_model = tf.keras.applications.MobileNetV2(input_shape=IMG_SHAPE,\n",
    "                                               include_top=False,\n",
    "                                               weights='imagenet')\n",
    "    base_model.compile(optimizer = tf.keras.optimizers.SGD(learning_rate=0.0001), loss = tf.keras.losses.SparseCategoricalCrossentropy(from_logits=True), metrics = ['acc'])\n",
    "    return base_model\n"
   ]
  },
  {
   "cell_type": "markdown",
   "id": "49bb4767",
   "metadata": {},
   "source": [
    "### 3. Train Model"
   ]
  },
  {
   "cell_type": "code",
   "execution_count": 7,
   "id": "40a8f7a2",
   "metadata": {},
   "outputs": [
    {
     "name": "stdout",
     "output_type": "stream",
     "text": [
      "Epoch 1/10\n"
     ]
    },
    {
     "name": "stderr",
     "output_type": "stream",
     "text": [
      "2022-02-11 17:08:29.404425: W tensorflow/core/platform/profile_utils/cpu_utils.cc:128] Failed to get CPU frequency: 0 Hz\n",
      "2022-02-11 17:08:29.405359: I tensorflow/core/grappler/optimizers/custom_graph_optimizer_registry.cc:112] Plugin optimizer for device_type GPU is enabled.\n",
      "2022-02-11 17:08:29.811076: W tensorflow/core/lib/png/png_io.cc:88] PNG warning: iCCP: known incorrect sRGB profile\n"
     ]
    },
    {
     "name": "stdout",
     "output_type": "stream",
     "text": [
      " 7/85 [=>............................] - ETA: 44s - loss: 5.9100 - acc: 0.2500"
     ]
    },
    {
     "name": "stderr",
     "output_type": "stream",
     "text": [
      "2022-02-11 17:08:37.729592: W tensorflow/core/lib/png/png_io.cc:88] PNG warning: iCCP: known incorrect sRGB profile\n"
     ]
    },
    {
     "name": "stdout",
     "output_type": "stream",
     "text": [
      "38/85 [============>.................] - ETA: 26s - loss: 4.9924 - acc: 0.2837"
     ]
    },
    {
     "name": "stderr",
     "output_type": "stream",
     "text": [
      "2022-02-11 17:08:54.860372: W tensorflow/core/lib/png/png_io.cc:88] PNG warning: iCCP: known incorrect sRGB profile\n"
     ]
    },
    {
     "name": "stdout",
     "output_type": "stream",
     "text": [
      "64/85 [=====================>........] - ETA: 11s - loss: 4.4702 - acc: 0.3257"
     ]
    },
    {
     "name": "stderr",
     "output_type": "stream",
     "text": [
      "2022-02-11 17:09:09.230585: W tensorflow/core/lib/png/png_io.cc:88] PNG warning: iCCP: known incorrect sRGB profile\n"
     ]
    },
    {
     "name": "stdout",
     "output_type": "stream",
     "text": [
      "68/85 [=======================>......] - ETA: 9s - loss: 4.3997 - acc: 0.3277"
     ]
    },
    {
     "name": "stderr",
     "output_type": "stream",
     "text": [
      "2022-02-11 17:09:11.380254: W tensorflow/core/lib/png/png_io.cc:88] PNG warning: iCCP: known incorrect sRGB profile\n"
     ]
    },
    {
     "name": "stdout",
     "output_type": "stream",
     "text": [
      "85/85 [==============================] - ETA: 0s - loss: 4.1206 - acc: 0.3584"
     ]
    },
    {
     "name": "stderr",
     "output_type": "stream",
     "text": [
      "2022-02-11 17:09:22.534762: I tensorflow/core/grappler/optimizers/custom_graph_optimizer_registry.cc:112] Plugin optimizer for device_type GPU is enabled.\n",
      "2022-02-11 17:09:23.612464: W tensorflow/core/lib/png/png_io.cc:88] PNG warning: iCCP: known incorrect sRGB profile\n"
     ]
    },
    {
     "name": "stdout",
     "output_type": "stream",
     "text": [
      "85/85 [==============================] - 58s 628ms/step - loss: 4.1206 - acc: 0.3584 - val_loss: 3.3625 - val_acc: 0.4307\n",
      "Epoch 2/10\n"
     ]
    },
    {
     "name": "stderr",
     "output_type": "stream",
     "text": [
      "2022-02-11 17:09:27.165163: W tensorflow/core/lib/png/png_io.cc:88] PNG warning: iCCP: known incorrect sRGB profile\n"
     ]
    },
    {
     "name": "stdout",
     "output_type": "stream",
     "text": [
      " 7/85 [=>............................] - ETA: 44s - loss: 2.5423 - acc: 0.5268"
     ]
    },
    {
     "name": "stderr",
     "output_type": "stream",
     "text": [
      "2022-02-11 17:09:31.606784: W tensorflow/core/lib/png/png_io.cc:88] PNG warning: iCCP: known incorrect sRGB profile\n"
     ]
    },
    {
     "name": "stdout",
     "output_type": "stream",
     "text": [
      "38/85 [============>.................] - ETA: 26s - loss: 2.1086 - acc: 0.5658"
     ]
    },
    {
     "name": "stderr",
     "output_type": "stream",
     "text": [
      "2022-02-11 17:09:48.727542: W tensorflow/core/lib/png/png_io.cc:88] PNG warning: iCCP: known incorrect sRGB profile\n"
     ]
    },
    {
     "name": "stdout",
     "output_type": "stream",
     "text": [
      "64/85 [=====================>........] - ETA: 11s - loss: 2.0213 - acc: 0.5811"
     ]
    },
    {
     "name": "stderr",
     "output_type": "stream",
     "text": [
      "2022-02-11 17:10:03.137662: W tensorflow/core/lib/png/png_io.cc:88] PNG warning: iCCP: known incorrect sRGB profile\n"
     ]
    },
    {
     "name": "stdout",
     "output_type": "stream",
     "text": [
      "68/85 [=======================>......] - ETA: 9s - loss: 2.0129 - acc: 0.5813"
     ]
    },
    {
     "name": "stderr",
     "output_type": "stream",
     "text": [
      "2022-02-11 17:10:05.366453: W tensorflow/core/lib/png/png_io.cc:88] PNG warning: iCCP: known incorrect sRGB profile\n"
     ]
    },
    {
     "name": "stdout",
     "output_type": "stream",
     "text": [
      "85/85 [==============================] - ETA: 0s - loss: 1.9673 - acc: 0.5915"
     ]
    },
    {
     "name": "stderr",
     "output_type": "stream",
     "text": [
      "2022-02-11 17:10:15.630451: W tensorflow/core/lib/png/png_io.cc:88] PNG warning: iCCP: known incorrect sRGB profile\n"
     ]
    },
    {
     "name": "stdout",
     "output_type": "stream",
     "text": [
      "85/85 [==============================] - 52s 604ms/step - loss: 1.9673 - acc: 0.5915 - val_loss: 2.0775 - val_acc: 0.5944\n",
      "Epoch 3/10\n"
     ]
    },
    {
     "name": "stderr",
     "output_type": "stream",
     "text": [
      "2022-02-11 17:10:18.969389: W tensorflow/core/lib/png/png_io.cc:88] PNG warning: iCCP: known incorrect sRGB profile\n"
     ]
    },
    {
     "name": "stdout",
     "output_type": "stream",
     "text": [
      " 7/85 [=>............................] - ETA: 44s - loss: 1.5785 - acc: 0.6875"
     ]
    },
    {
     "name": "stderr",
     "output_type": "stream",
     "text": [
      "2022-02-11 17:10:23.320643: W tensorflow/core/lib/png/png_io.cc:88] PNG warning: iCCP: known incorrect sRGB profile\n"
     ]
    },
    {
     "name": "stdout",
     "output_type": "stream",
     "text": [
      "38/85 [============>.................] - ETA: 26s - loss: 1.2547 - acc: 0.7146"
     ]
    },
    {
     "name": "stderr",
     "output_type": "stream",
     "text": [
      "2022-02-11 17:10:40.506382: W tensorflow/core/lib/png/png_io.cc:88] PNG warning: iCCP: known incorrect sRGB profile\n"
     ]
    },
    {
     "name": "stdout",
     "output_type": "stream",
     "text": [
      "64/85 [=====================>........] - ETA: 11s - loss: 1.2044 - acc: 0.7212"
     ]
    },
    {
     "name": "stderr",
     "output_type": "stream",
     "text": [
      "2022-02-11 17:10:54.982511: W tensorflow/core/lib/png/png_io.cc:88] PNG warning: iCCP: known incorrect sRGB profile\n"
     ]
    },
    {
     "name": "stdout",
     "output_type": "stream",
     "text": [
      "68/85 [=======================>......] - ETA: 9s - loss: 1.2061 - acc: 0.7206 "
     ]
    },
    {
     "name": "stderr",
     "output_type": "stream",
     "text": [
      "2022-02-11 17:10:57.183132: W tensorflow/core/lib/png/png_io.cc:88] PNG warning: iCCP: known incorrect sRGB profile\n"
     ]
    },
    {
     "name": "stdout",
     "output_type": "stream",
     "text": [
      "85/85 [==============================] - ETA: 0s - loss: 1.1976 - acc: 0.7190"
     ]
    },
    {
     "name": "stderr",
     "output_type": "stream",
     "text": [
      "2022-02-11 17:11:07.458942: W tensorflow/core/lib/png/png_io.cc:88] PNG warning: iCCP: known incorrect sRGB profile\n"
     ]
    },
    {
     "name": "stdout",
     "output_type": "stream",
     "text": [
      "85/85 [==============================] - 52s 605ms/step - loss: 1.1976 - acc: 0.7190 - val_loss: 1.7179 - val_acc: 0.6519\n",
      "Epoch 4/10\n"
     ]
    },
    {
     "name": "stderr",
     "output_type": "stream",
     "text": [
      "2022-02-11 17:11:10.798993: W tensorflow/core/lib/png/png_io.cc:88] PNG warning: iCCP: known incorrect sRGB profile\n"
     ]
    },
    {
     "name": "stdout",
     "output_type": "stream",
     "text": [
      " 7/85 [=>............................] - ETA: 44s - loss: 1.0424 - acc: 0.7411"
     ]
    },
    {
     "name": "stderr",
     "output_type": "stream",
     "text": [
      "2022-02-11 17:11:15.085120: W tensorflow/core/lib/png/png_io.cc:88] PNG warning: iCCP: known incorrect sRGB profile\n"
     ]
    },
    {
     "name": "stdout",
     "output_type": "stream",
     "text": [
      "38/85 [============>.................] - ETA: 26s - loss: 0.8383 - acc: 0.7730"
     ]
    },
    {
     "name": "stderr",
     "output_type": "stream",
     "text": [
      "2022-02-11 17:11:32.255190: W tensorflow/core/lib/png/png_io.cc:88] PNG warning: iCCP: known incorrect sRGB profile\n"
     ]
    },
    {
     "name": "stdout",
     "output_type": "stream",
     "text": [
      "64/85 [=====================>........] - ETA: 11s - loss: 0.8055 - acc: 0.7778"
     ]
    },
    {
     "name": "stderr",
     "output_type": "stream",
     "text": [
      "2022-02-11 17:11:46.605128: W tensorflow/core/lib/png/png_io.cc:88] PNG warning: iCCP: known incorrect sRGB profile\n"
     ]
    },
    {
     "name": "stdout",
     "output_type": "stream",
     "text": [
      "68/85 [=======================>......] - ETA: 9s - loss: 0.7894 - acc: 0.7812"
     ]
    },
    {
     "name": "stderr",
     "output_type": "stream",
     "text": [
      "2022-02-11 17:11:48.739961: W tensorflow/core/lib/png/png_io.cc:88] PNG warning: iCCP: known incorrect sRGB profile\n"
     ]
    },
    {
     "name": "stdout",
     "output_type": "stream",
     "text": [
      "85/85 [==============================] - ETA: 0s - loss: 0.7842 - acc: 0.7808"
     ]
    },
    {
     "name": "stderr",
     "output_type": "stream",
     "text": [
      "2022-02-11 17:11:58.887422: W tensorflow/core/lib/png/png_io.cc:88] PNG warning: iCCP: known incorrect sRGB profile\n"
     ]
    },
    {
     "name": "stdout",
     "output_type": "stream",
     "text": [
      "85/85 [==============================] - 51s 601ms/step - loss: 0.7842 - acc: 0.7808 - val_loss: 1.5514 - val_acc: 0.6844\n",
      "Epoch 5/10\n"
     ]
    },
    {
     "name": "stderr",
     "output_type": "stream",
     "text": [
      "2022-02-11 17:12:02.242886: W tensorflow/core/lib/png/png_io.cc:88] PNG warning: iCCP: known incorrect sRGB profile\n"
     ]
    },
    {
     "name": "stdout",
     "output_type": "stream",
     "text": [
      " 7/85 [=>............................] - ETA: 47s - loss: 0.7581 - acc: 0.7768"
     ]
    },
    {
     "name": "stderr",
     "output_type": "stream",
     "text": [
      "2022-02-11 17:12:06.813683: W tensorflow/core/lib/png/png_io.cc:88] PNG warning: iCCP: known incorrect sRGB profile\n"
     ]
    },
    {
     "name": "stdout",
     "output_type": "stream",
     "text": [
      "38/85 [============>.................] - ETA: 26s - loss: 0.6082 - acc: 0.8224"
     ]
    },
    {
     "name": "stderr",
     "output_type": "stream",
     "text": [
      "2022-02-11 17:12:24.190874: W tensorflow/core/lib/png/png_io.cc:88] PNG warning: iCCP: known incorrect sRGB profile\n"
     ]
    },
    {
     "name": "stdout",
     "output_type": "stream",
     "text": [
      "64/85 [=====================>........] - ETA: 11s - loss: 0.5797 - acc: 0.8301"
     ]
    },
    {
     "name": "stderr",
     "output_type": "stream",
     "text": [
      "2022-02-11 17:12:38.507944: W tensorflow/core/lib/png/png_io.cc:88] PNG warning: iCCP: known incorrect sRGB profile\n"
     ]
    },
    {
     "name": "stdout",
     "output_type": "stream",
     "text": [
      "68/85 [=======================>......] - ETA: 9s - loss: 0.5768 - acc: 0.8313 "
     ]
    },
    {
     "name": "stderr",
     "output_type": "stream",
     "text": [
      "2022-02-11 17:12:40.637975: W tensorflow/core/lib/png/png_io.cc:88] PNG warning: iCCP: known incorrect sRGB profile\n"
     ]
    },
    {
     "name": "stdout",
     "output_type": "stream",
     "text": [
      "85/85 [==============================] - ETA: 0s - loss: 0.5756 - acc: 0.8317"
     ]
    },
    {
     "name": "stderr",
     "output_type": "stream",
     "text": [
      "2022-02-11 17:12:51.022752: W tensorflow/core/lib/png/png_io.cc:88] PNG warning: iCCP: known incorrect sRGB profile\n"
     ]
    },
    {
     "name": "stdout",
     "output_type": "stream",
     "text": [
      "85/85 [==============================] - 52s 610ms/step - loss: 0.5756 - acc: 0.8317 - val_loss: 1.4077 - val_acc: 0.7035\n",
      "Epoch 6/10\n"
     ]
    },
    {
     "name": "stderr",
     "output_type": "stream",
     "text": [
      "2022-02-11 17:12:54.464326: W tensorflow/core/lib/png/png_io.cc:88] PNG warning: iCCP: known incorrect sRGB profile\n"
     ]
    },
    {
     "name": "stdout",
     "output_type": "stream",
     "text": [
      " 7/85 [=>............................] - ETA: 44s - loss: 0.5181 - acc: 0.8661"
     ]
    },
    {
     "name": "stderr",
     "output_type": "stream",
     "text": [
      "2022-02-11 17:12:58.873388: W tensorflow/core/lib/png/png_io.cc:88] PNG warning: iCCP: known incorrect sRGB profile\n"
     ]
    },
    {
     "name": "stdout",
     "output_type": "stream",
     "text": [
      "38/85 [============>.................] - ETA: 26s - loss: 0.3949 - acc: 0.8758"
     ]
    },
    {
     "name": "stderr",
     "output_type": "stream",
     "text": [
      "2022-02-11 17:13:16.120534: W tensorflow/core/lib/png/png_io.cc:88] PNG warning: iCCP: known incorrect sRGB profile\n"
     ]
    },
    {
     "name": "stdout",
     "output_type": "stream",
     "text": [
      "64/85 [=====================>........] - ETA: 11s - loss: 0.4050 - acc: 0.8696"
     ]
    },
    {
     "name": "stderr",
     "output_type": "stream",
     "text": [
      "2022-02-11 17:13:30.471988: W tensorflow/core/lib/png/png_io.cc:88] PNG warning: iCCP: known incorrect sRGB profile\n"
     ]
    },
    {
     "name": "stdout",
     "output_type": "stream",
     "text": [
      "68/85 [=======================>......] - ETA: 9s - loss: 0.4092 - acc: 0.8713"
     ]
    },
    {
     "name": "stderr",
     "output_type": "stream",
     "text": [
      "2022-02-11 17:13:32.598050: W tensorflow/core/lib/png/png_io.cc:88] PNG warning: iCCP: known incorrect sRGB profile\n"
     ]
    },
    {
     "name": "stdout",
     "output_type": "stream",
     "text": [
      "85/85 [==============================] - ETA: 0s - loss: 0.4087 - acc: 0.8718"
     ]
    },
    {
     "name": "stderr",
     "output_type": "stream",
     "text": [
      "2022-02-11 17:13:43.077650: W tensorflow/core/lib/png/png_io.cc:88] PNG warning: iCCP: known incorrect sRGB profile\n"
     ]
    },
    {
     "name": "stdout",
     "output_type": "stream",
     "text": [
      "85/85 [==============================] - 52s 606ms/step - loss: 0.4087 - acc: 0.8718 - val_loss: 1.3221 - val_acc: 0.7065\n",
      "Epoch 7/10\n"
     ]
    },
    {
     "name": "stderr",
     "output_type": "stream",
     "text": [
      "2022-02-11 17:13:46.432161: W tensorflow/core/lib/png/png_io.cc:88] PNG warning: iCCP: known incorrect sRGB profile\n"
     ]
    },
    {
     "name": "stdout",
     "output_type": "stream",
     "text": [
      " 7/85 [=>............................] - ETA: 44s - loss: 0.4282 - acc: 0.9018"
     ]
    },
    {
     "name": "stderr",
     "output_type": "stream",
     "text": [
      "2022-02-11 17:13:50.896438: W tensorflow/core/lib/png/png_io.cc:88] PNG warning: iCCP: known incorrect sRGB profile\n"
     ]
    },
    {
     "name": "stdout",
     "output_type": "stream",
     "text": [
      "38/85 [============>.................] - ETA: 26s - loss: 0.3282 - acc: 0.8947"
     ]
    },
    {
     "name": "stderr",
     "output_type": "stream",
     "text": [
      "2022-02-11 17:14:07.995004: W tensorflow/core/lib/png/png_io.cc:88] PNG warning: iCCP: known incorrect sRGB profile\n"
     ]
    },
    {
     "name": "stdout",
     "output_type": "stream",
     "text": [
      "64/85 [=====================>........] - ETA: 11s - loss: 0.3033 - acc: 0.9062"
     ]
    },
    {
     "name": "stderr",
     "output_type": "stream",
     "text": [
      "2022-02-11 17:14:22.344578: W tensorflow/core/lib/png/png_io.cc:88] PNG warning: iCCP: known incorrect sRGB profile\n"
     ]
    },
    {
     "name": "stdout",
     "output_type": "stream",
     "text": [
      "68/85 [=======================>......] - ETA: 9s - loss: 0.3022 - acc: 0.9067"
     ]
    },
    {
     "name": "stderr",
     "output_type": "stream",
     "text": [
      "2022-02-11 17:14:24.476444: W tensorflow/core/lib/png/png_io.cc:88] PNG warning: iCCP: known incorrect sRGB profile\n"
     ]
    },
    {
     "name": "stdout",
     "output_type": "stream",
     "text": [
      "85/85 [==============================] - ETA: 0s - loss: 0.2948 - acc: 0.9087"
     ]
    },
    {
     "name": "stderr",
     "output_type": "stream",
     "text": [
      "2022-02-11 17:14:34.608209: W tensorflow/core/lib/png/png_io.cc:88] PNG warning: iCCP: known incorrect sRGB profile\n"
     ]
    },
    {
     "name": "stdout",
     "output_type": "stream",
     "text": [
      "85/85 [==============================] - 51s 600ms/step - loss: 0.2948 - acc: 0.9087 - val_loss: 1.2907 - val_acc: 0.7198\n",
      "Epoch 8/10\n"
     ]
    },
    {
     "name": "stderr",
     "output_type": "stream",
     "text": [
      "2022-02-11 17:14:37.917421: W tensorflow/core/lib/png/png_io.cc:88] PNG warning: iCCP: known incorrect sRGB profile\n"
     ]
    },
    {
     "name": "stdout",
     "output_type": "stream",
     "text": [
      " 7/85 [=>............................] - ETA: 43s - loss: 0.2257 - acc: 0.9330"
     ]
    },
    {
     "name": "stderr",
     "output_type": "stream",
     "text": [
      "2022-02-11 17:14:42.177943: W tensorflow/core/lib/png/png_io.cc:88] PNG warning: iCCP: known incorrect sRGB profile\n"
     ]
    },
    {
     "name": "stdout",
     "output_type": "stream",
     "text": [
      "38/85 [============>.................] - ETA: 26s - loss: 0.2424 - acc: 0.9153"
     ]
    },
    {
     "name": "stderr",
     "output_type": "stream",
     "text": [
      "2022-02-11 17:14:59.402848: W tensorflow/core/lib/png/png_io.cc:88] PNG warning: iCCP: known incorrect sRGB profile\n"
     ]
    },
    {
     "name": "stdout",
     "output_type": "stream",
     "text": [
      "64/85 [=====================>........] - ETA: 11s - loss: 0.2336 - acc: 0.9194"
     ]
    },
    {
     "name": "stderr",
     "output_type": "stream",
     "text": [
      "2022-02-11 17:15:14.169290: W tensorflow/core/lib/png/png_io.cc:88] PNG warning: iCCP: known incorrect sRGB profile\n"
     ]
    },
    {
     "name": "stdout",
     "output_type": "stream",
     "text": [
      "68/85 [=======================>......] - ETA: 9s - loss: 0.2329 - acc: 0.9196 "
     ]
    },
    {
     "name": "stderr",
     "output_type": "stream",
     "text": [
      "2022-02-11 17:15:16.338421: W tensorflow/core/lib/png/png_io.cc:88] PNG warning: iCCP: known incorrect sRGB profile\n"
     ]
    },
    {
     "name": "stdout",
     "output_type": "stream",
     "text": [
      "85/85 [==============================] - ETA: 0s - loss: 0.2285 - acc: 0.9219"
     ]
    },
    {
     "name": "stderr",
     "output_type": "stream",
     "text": [
      "2022-02-11 17:15:26.531178: W tensorflow/core/lib/png/png_io.cc:88] PNG warning: iCCP: known incorrect sRGB profile\n"
     ]
    },
    {
     "name": "stdout",
     "output_type": "stream",
     "text": [
      "85/85 [==============================] - 52s 607ms/step - loss: 0.2285 - acc: 0.9219 - val_loss: 1.2367 - val_acc: 0.7168\n",
      "Epoch 9/10\n"
     ]
    },
    {
     "name": "stderr",
     "output_type": "stream",
     "text": [
      "2022-02-11 17:15:29.858604: W tensorflow/core/lib/png/png_io.cc:88] PNG warning: iCCP: known incorrect sRGB profile\n"
     ]
    },
    {
     "name": "stdout",
     "output_type": "stream",
     "text": [
      " 7/85 [=>............................] - ETA: 43s - loss: 0.2208 - acc: 0.9464"
     ]
    },
    {
     "name": "stderr",
     "output_type": "stream",
     "text": [
      "2022-02-11 17:15:34.146565: W tensorflow/core/lib/png/png_io.cc:88] PNG warning: iCCP: known incorrect sRGB profile\n"
     ]
    },
    {
     "name": "stdout",
     "output_type": "stream",
     "text": [
      "38/85 [============>.................] - ETA: 26s - loss: 0.1890 - acc: 0.9375"
     ]
    },
    {
     "name": "stderr",
     "output_type": "stream",
     "text": [
      "2022-02-11 17:15:51.470342: W tensorflow/core/lib/png/png_io.cc:88] PNG warning: iCCP: known incorrect sRGB profile\n"
     ]
    },
    {
     "name": "stdout",
     "output_type": "stream",
     "text": [
      "64/85 [=====================>........] - ETA: 11s - loss: 0.1783 - acc: 0.9399"
     ]
    },
    {
     "name": "stderr",
     "output_type": "stream",
     "text": [
      "2022-02-11 17:16:06.017111: W tensorflow/core/lib/png/png_io.cc:88] PNG warning: iCCP: known incorrect sRGB profile\n"
     ]
    },
    {
     "name": "stdout",
     "output_type": "stream",
     "text": [
      "68/85 [=======================>......] - ETA: 9s - loss: 0.1779 - acc: 0.9398 "
     ]
    },
    {
     "name": "stderr",
     "output_type": "stream",
     "text": [
      "2022-02-11 17:16:08.210597: W tensorflow/core/lib/png/png_io.cc:88] PNG warning: iCCP: known incorrect sRGB profile\n"
     ]
    },
    {
     "name": "stdout",
     "output_type": "stream",
     "text": [
      "85/85 [==============================] - ETA: 0s - loss: 0.1729 - acc: 0.9422"
     ]
    },
    {
     "name": "stderr",
     "output_type": "stream",
     "text": [
      "2022-02-11 17:16:18.551048: W tensorflow/core/lib/png/png_io.cc:88] PNG warning: iCCP: known incorrect sRGB profile\n"
     ]
    },
    {
     "name": "stdout",
     "output_type": "stream",
     "text": [
      "85/85 [==============================] - 52s 608ms/step - loss: 0.1729 - acc: 0.9422 - val_loss: 1.2063 - val_acc: 0.7316\n",
      "Epoch 10/10\n"
     ]
    },
    {
     "name": "stderr",
     "output_type": "stream",
     "text": [
      "2022-02-11 17:16:21.920106: W tensorflow/core/lib/png/png_io.cc:88] PNG warning: iCCP: known incorrect sRGB profile\n"
     ]
    },
    {
     "name": "stdout",
     "output_type": "stream",
     "text": [
      " 7/85 [=>............................] - ETA: 44s - loss: 0.1993 - acc: 0.9375"
     ]
    },
    {
     "name": "stderr",
     "output_type": "stream",
     "text": [
      "2022-02-11 17:16:26.325975: W tensorflow/core/lib/png/png_io.cc:88] PNG warning: iCCP: known incorrect sRGB profile\n"
     ]
    },
    {
     "name": "stdout",
     "output_type": "stream",
     "text": [
      "38/85 [============>.................] - ETA: 26s - loss: 0.1407 - acc: 0.9490"
     ]
    },
    {
     "name": "stderr",
     "output_type": "stream",
     "text": [
      "2022-02-11 17:16:43.471174: W tensorflow/core/lib/png/png_io.cc:88] PNG warning: iCCP: known incorrect sRGB profile\n"
     ]
    },
    {
     "name": "stdout",
     "output_type": "stream",
     "text": [
      "64/85 [=====================>........] - ETA: 11s - loss: 0.1353 - acc: 0.9497"
     ]
    },
    {
     "name": "stderr",
     "output_type": "stream",
     "text": [
      "2022-02-11 17:16:57.799737: W tensorflow/core/lib/png/png_io.cc:88] PNG warning: iCCP: known incorrect sRGB profile\n"
     ]
    },
    {
     "name": "stdout",
     "output_type": "stream",
     "text": [
      "68/85 [=======================>......] - ETA: 9s - loss: 0.1353 - acc: 0.9508"
     ]
    },
    {
     "name": "stderr",
     "output_type": "stream",
     "text": [
      "2022-02-11 17:16:59.937098: W tensorflow/core/lib/png/png_io.cc:88] PNG warning: iCCP: known incorrect sRGB profile\n"
     ]
    },
    {
     "name": "stdout",
     "output_type": "stream",
     "text": [
      "85/85 [==============================] - ETA: 0s - loss: 0.1307 - acc: 0.9517"
     ]
    },
    {
     "name": "stderr",
     "output_type": "stream",
     "text": [
      "2022-02-11 17:17:10.168872: W tensorflow/core/lib/png/png_io.cc:88] PNG warning: iCCP: known incorrect sRGB profile\n"
     ]
    },
    {
     "name": "stdout",
     "output_type": "stream",
     "text": [
      "\b\b\b\b\b\b\b\b\b\b\b\b\b\b\b\b\b\b\b\b\b\b\b\b\b\b\b\b\b\b\b\b\b\b\b\b\b\b\b\b\b\b\b\b\b\b\b\b\b\b\b\b\b\b\b\b\b\b\b\b\b\b\b\b\b\b\b\b\b\b\b\b\b\b\b\b\b\r",
      "85/85 [==============================] - 52s 602ms/step - loss: 0.1307 - acc: 0.9517 - val_loss: 1.1688 - val_acc: 0.7330\n"
     ]
    }
   ],
   "source": [
    "def train_model(epochs, base_model, train_ds, val_ds):\n",
    "    history = base_model.fit(\n",
    "      train_ds,\n",
    "      validation_data = val_ds,\n",
    "      epochs = epochs\n",
    "    )"
   ]
  },
  {
   "cell_type": "markdown",
   "id": "700bb648",
   "metadata": {},
   "source": [
    "### 5. Save model"
   ]
  },
  {
   "cell_type": "code",
   "execution_count": null,
   "id": "537cca29",
   "metadata": {},
   "outputs": [],
   "source": [
    "def save_model(base_model):\n",
    "    base_model.save_model(\"model/model.h5\")\n",
    "    \n",
    "    # quantization used to allow a lighter model for mobile architectures\n",
    "    converter = tf.lite.TFLiteConverter.from_keras_model(model)\n",
    "    converter.optimizations = [tf.lite.Optimize.DEFAULT]\n",
    "    \n",
    "    tflite_model_quant = converter.convert()\n",
    "    # Save the model.\n",
    "    with open('model/model.tflite', 'wb') as f:\n",
    "      f.write(tflite_model)"
   ]
  },
  {
   "cell_type": "markdown",
   "id": "debc0f50",
   "metadata": {},
   "source": [
    "### 6. External Tests"
   ]
  },
  {
   "cell_type": "code",
   "execution_count": 9,
   "id": "db0dee93",
   "metadata": {},
   "outputs": [],
   "source": [
    "from PIL import Image, ImageOps\n",
    "def some_test(model):\n",
    "    labels = [\"Yeezy Slide\", \"Blazer\", \"Jordan 11\", \"Air Max 1\", \"Yeezy 700\", \"Yeezy 350\", \"Jordan 4\",\"Jordan 1 High\"]\n",
    "    for test in os.listdir(\"test_images\"):\n",
    "        try:\n",
    "            data = np.ndarray(shape=(1, 224, 224, 3), dtype=np.float32)\n",
    "            image = Image.open('test_images/' + test)\n",
    "            size = (224, 224)\n",
    "            image = ImageOps.fit(image, size, Image.ANTIALIAS)\n",
    "            image_array = np.asarray(image)\n",
    "            normalized_image_array = (image_array.astype(np.float32) / 127.0) - 1\n",
    "            data[0] = normalized_image_array\n",
    "            prediction = model.predict(data)\n",
    "            print(test)\n",
    "            print(\n",
    "                \"This image most likely belongs to {} with a {:.2f} percent confidence.\"\n",
    "                .format(labels[np.argmax(prediction)], 100 * np.max(prediction))\n",
    "            )\n",
    "        except:\n",
    "            pass #got errors for .DS files"
   ]
  },
  {
   "cell_type": "code",
   "execution_count": 10,
   "id": "1519c819",
   "metadata": {},
   "outputs": [
    {
     "name": "stdout",
     "output_type": "stream",
     "text": [
      "Model already trained, loading weights..\n"
     ]
    },
    {
     "name": "stderr",
     "output_type": "stream",
     "text": [
      "2022-02-18 16:22:03.254022: I tensorflow/core/grappler/optimizers/custom_graph_optimizer_registry.cc:112] Plugin optimizer for device_type GPU is enabled.\n"
     ]
    },
    {
     "name": "stdout",
     "output_type": "stream",
     "text": [
      "10.jpeg\n",
      "This image most likely belongs to Jordan 1 High with a 99.99 percent confidence.\n",
      "1.jpeg\n",
      "This image most likely belongs to Yeezy Slide with a 98.18 percent confidence.\n",
      "11.jpeg\n",
      "This image most likely belongs to Blazer with a 99.96 percent confidence.\n",
      "7.jpeg\n",
      "This image most likely belongs to Jordan 1 High with a 99.99 percent confidence.\n",
      "4.jpeg\n",
      "This image most likely belongs to Yeezy 700 with a 100.00 percent confidence.\n",
      "14.jpeg\n",
      "This image most likely belongs to Air Max 1 with a 100.00 percent confidence.\n",
      "15.jpeg\n",
      "This image most likely belongs to Yeezy 700 with a 99.99 percent confidence.\n",
      "9.jpeg\n",
      "This image most likely belongs to Jordan 1 High with a 91.69 percent confidence.\n",
      "2.jpeg\n",
      "This image most likely belongs to Yeezy 350 with a 100.00 percent confidence.\n",
      "12.jpeg\n",
      "This image most likely belongs to Jordan 11 with a 100.00 percent confidence.\n",
      "5.jpg\n",
      "This image most likely belongs to Yeezy 700 with a 86.89 percent confidence.\n",
      "13.jpeg\n",
      "This image most likely belongs to Jordan 1 High with a 100.00 percent confidence.\n",
      "3.jpeg\n",
      "This image most likely belongs to Jordan 4 with a 100.00 percent confidence.\n",
      "Model successfully loaded!\n"
     ]
    }
   ],
   "source": [
    "# main\n",
    "if os.path.isfile('model/model_quantized.tflite') or os.path.isfile('model/model.h5'):\n",
    "    print(\"Model already trained, loading weights..\")\n",
    "    model = tf.keras.models.load_model('model/model.h5', compile = False)\n",
    "    print(\"Model successfully loaded!\")\n",
    "    print(\"Doing tests on test_images folder\")\n",
    "    some_test(model)\n",
    "else:\n",
    "    print(\"No model available, train a new one..\")\n",
    "    generate_model()"
   ]
  }
 ],
 "metadata": {
  "kernelspec": {
   "display_name": "Python 3 (ipykernel)",
   "language": "python",
   "name": "python3"
  },
  "language_info": {
   "codemirror_mode": {
    "name": "ipython",
    "version": 3
   },
   "file_extension": ".py",
   "mimetype": "text/x-python",
   "name": "python",
   "nbconvert_exporter": "python",
   "pygments_lexer": "ipython3",
   "version": "3.8.12"
  }
 },
 "nbformat": 4,
 "nbformat_minor": 5
}
