{
 "cells": [
  {
   "cell_type": "code",
   "execution_count": 1,
   "id": "256924db",
   "metadata": {},
   "outputs": [],
   "source": [
    "# imports\n",
    "import numpy as np\n",
    "import os\n",
    "import tensorflow as tf\n",
    "import pathlib\n",
    "import PIL\n",
    "\n",
    "from keras import applications\n",
    "from tensorflow import keras\n",
    "from tensorflow.keras.models import Sequential"
   ]
  },
  {
   "cell_type": "code",
   "execution_count": 2,
   "id": "2440e3e8",
   "metadata": {},
   "outputs": [],
   "source": [
    "path = \"data\"\n",
    "batch_size = 32\n",
    "IMG_SIZE = 224\n",
    "epochs = 150"
   ]
  },
  {
   "cell_type": "code",
   "execution_count": 3,
   "id": "2eb99446",
   "metadata": {},
   "outputs": [],
   "source": [
    "def generate_model():\n",
    "    load_data(path)\n",
    "    class_names, train_ds, val_ds = train_val_split(path)\n",
    "    base_model = define_model(len(class_names))\n",
    "    train_model(epochs, base_model, train_ds, val_ds)\n",
    "    save_model(base_model)"
   ]
  },
  {
   "cell_type": "markdown",
   "id": "6f5aaf20",
   "metadata": {
    "tags": []
   },
   "source": [
    "### 0. Load images from data folder"
   ]
  },
  {
   "cell_type": "code",
   "execution_count": 4,
   "id": "5ea37fc8",
   "metadata": {},
   "outputs": [],
   "source": [
    "def load_data(path):\n",
    "    data_dir = pathlib.Path(path)\n",
    "    image_count = len(list(data_dir.glob('*/*')))\n",
    "    print(f\"Successfully loaded {image_count} images\")\n",
    "    return data_dir"
   ]
  },
  {
   "cell_type": "markdown",
   "id": "6059252e",
   "metadata": {},
   "source": [
    "### 1. Split data into train and validation dataset"
   ]
  },
  {
   "cell_type": "code",
   "execution_count": 5,
   "id": "8a2bf592",
   "metadata": {},
   "outputs": [],
   "source": [
    "# 20% of images used for validation\n",
    "def train_val_split(data_dir):\n",
    "    train_ds = tf.keras.preprocessing.image_dataset_from_directory(\n",
    "        data_dir,\n",
    "        labels = 'inferred',\n",
    "        validation_split = 0.2,\n",
    "        subset = \"training\",\n",
    "        seed = 123,\n",
    "        image_size = (IMG_SIZE, IMG_SIZE),\n",
    "        batch_size = batch_size)\n",
    "\n",
    "    val_ds = tf.keras.utils.image_dataset_from_directory(\n",
    "        data_dir,\n",
    "        labels = 'inferred',\n",
    "        validation_split = 0.2,\n",
    "        subset = \"validation\",\n",
    "        seed = 123,\n",
    "        image_size = (IMG_SIZE, IMG_SIZE),\n",
    "        batch_size = batch_size\n",
    "    )\n",
    "    \n",
    "    class_names = train_ds.class_names\n",
    "    return class_names, train_ds, val_ds"
   ]
  },
  {
   "cell_type": "markdown",
   "id": "412e6a40",
   "metadata": {},
   "source": [
    "### 2. Define model"
   ]
  },
  {
   "cell_type": "code",
   "execution_count": 6,
   "id": "4230cd1e",
   "metadata": {},
   "outputs": [],
   "source": [
    "# after multiple researches and test, ResNet 50 seems to be the best convolutional neural network\n",
    "\n",
    "from tensorflow.keras.applications import ResNet50\n",
    "from tensorflow.python.keras.layers import Dense, Flatten, GlobalAveragePooling2D\n",
    "\n",
    "def define_model(num_classes):\n",
    "    IMG_SHAPE = (IMG_SIZE, IMG_SIZE, 3)\n",
    "\n",
    "    # Create the base model from the pre-trained model MobileNet V2\n",
    "    base_model = tf.keras.applications.MobileNetV2(input_shape=IMG_SHAPE,\n",
    "                                               include_top=False,\n",
    "                                               weights='imagenet')\n",
    "\n",
    "    data_augmentation = keras.Sequential(\n",
    "      [\n",
    "        tf.keras.layers.RandomFlip(\"horizontal\",\n",
    "                          input_shape=(IMG_SIZE,\n",
    "                                      IMG_SIZE,\n",
    "                                      3)),\n",
    "        tf.keras.layers.RandomRotation(0.1),\n",
    "        tf.keras.layers.RandomZoom(0.1),\n",
    "      ]\n",
    "    )\n",
    "    \n",
    "    base_model.trainable = False\n",
    "    \n",
    "    model = tf.keras.Sequential([\n",
    "      data_augmentation,\n",
    "      base_model,\n",
    "      tf.keras.layers.GlobalAveragePooling2D(),\n",
    "      tf.keras.layers.Dense(521, activation='relu'),\n",
    "      tf.keras.layers.Dropout(0.3),\n",
    "      tf.keras.layers.Dense(256, activation=\"relu\"),\n",
    "      tf.keras.layers.Dropout(0.15),\n",
    "      tf.keras.layers.Dense(8)\n",
    "    ])\n",
    "    model.compile(optimizer = tf.keras.optimizers.Adam(learning_rate=0.0001), loss = tf.keras.losses.SparseCategoricalCrossentropy(from_logits=True), metrics = ['acc'])\n",
    "    #model.summary()\n",
    "    return model\n"
   ]
  },
  {
   "cell_type": "markdown",
   "id": "49bb4767",
   "metadata": {},
   "source": [
    "### 3. Train Model"
   ]
  },
  {
   "cell_type": "code",
   "execution_count": 7,
   "id": "40a8f7a2",
   "metadata": {},
   "outputs": [],
   "source": [
    "def train_model(epochs, base_model, train_ds, val_ds):\n",
    "    history = base_model.fit(\n",
    "      train_ds,\n",
    "      validation_data = val_ds,\n",
    "      epochs = epochs\n",
    "    )"
   ]
  },
  {
   "cell_type": "markdown",
   "id": "700bb648",
   "metadata": {},
   "source": [
    "### 5. Save model"
   ]
  },
  {
   "cell_type": "code",
   "execution_count": 8,
   "id": "537cca29",
   "metadata": {},
   "outputs": [],
   "source": [
    "def save_model(model):\n",
    "    model.save(\"model/model.h5\")\n",
    "    \n",
    "    # quantization used to allow a lighter model for mobile architectures\n",
    "    converter = tf.lite.TFLiteConverter.from_keras_model(model)\n",
    "    converter.optimizations = [tf.lite.Optimize.DEFAULT]\n",
    "    \n",
    "    tflite_model_quant = converter.convert()\n",
    "    # Save the model.\n",
    "    with open('model/model.tflite', 'wb') as f:\n",
    "      f.write(tflite_model)"
   ]
  },
  {
   "cell_type": "markdown",
   "id": "debc0f50",
   "metadata": {},
   "source": [
    "### 6. External Tests"
   ]
  },
  {
   "cell_type": "code",
   "execution_count": 9,
   "id": "db0dee93",
   "metadata": {},
   "outputs": [],
   "source": [
    "from PIL import Image, ImageOps\n",
    "def some_test(model):\n",
    "    labels = [\"Yeezy Slide\", \"Blazer\", \"Jordan 11\", \"Air Max 1\", \"Yeezy 700\", \"Yeezy 350\", \"Jordan 4\",\"Jordan 1 High\"]\n",
    "    for test in os.listdir(\"test_images\"):\n",
    "        try:\n",
    "            data = np.ndarray(shape=(1, 224, 224, 3), dtype=np.float32)\n",
    "            image = Image.open('test_images/' + test)\n",
    "            size = (224, 224)\n",
    "            image = ImageOps.fit(image, size, Image.ANTIALIAS)\n",
    "            image_array = np.asarray(image)\n",
    "            normalized_image_array = (image_array.astype(np.float32) / 127.0) - 1\n",
    "            data[0] = normalized_image_array\n",
    "            prediction = model.predict(data)\n",
    "            print(test)\n",
    "            print(\n",
    "                \"This image most likely belongs to {} with a {:.2f} percent confidence.\"\n",
    "                .format(labels[np.argmax(prediction)], 100 * np.max(prediction))\n",
    "            )\n",
    "        except:\n",
    "            pass #got errors for .DS files"
   ]
  },
  {
   "cell_type": "code",
   "execution_count": null,
   "id": "1519c819",
   "metadata": {},
   "outputs": [
    {
     "name": "stdout",
     "output_type": "stream",
     "text": [
      "No model available, train a new one..\n",
      "Successfully loaded 4813 images\n",
      "Found 4813 files belonging to 8 classes.\n",
      "Using 3851 files for training.\n",
      "Found 4813 files belonging to 8 classes.\n",
      "Using 962 files for validation.\n",
      "Epoch 1/150\n",
      "121/121 [==============================] - 129s 1s/step - loss: 1.9282 - acc: 0.2610 - val_loss: 1.7106 - val_acc: 0.3721\n",
      "Epoch 2/150\n",
      "121/121 [==============================] - 127s 1s/step - loss: 1.7048 - acc: 0.3677 - val_loss: 1.5876 - val_acc: 0.3992\n",
      "Epoch 3/150\n",
      "121/121 [==============================] - ETA: 0s - loss: 1.6162 - acc: 0.4069"
     ]
    }
   ],
   "source": [
    "##main\n",
    "if os.path.isfile('model/model_quantized.tflite') or os.path.isfile('model/model.h5'):\n",
    "    print(\"Model already trained, loading weights..\")\n",
    "    model = tf.keras.models.load_model('model/model.h5', compile = False)\n",
    "    print(\"Model successfully loaded!\")\n",
    "    print(\"Doing tests on test_images folder\")\n",
    "    some_test(model)\n",
    "else:\n",
    "    print(\"No model available, train a new one..\")\n",
    "    generate_model()"
   ]
  },
  {
   "cell_type": "code",
   "execution_count": null,
   "id": "8045ecbf-0241-4d50-8cf8-32a37a14c74f",
   "metadata": {},
   "outputs": [],
   "source": []
  }
 ],
 "metadata": {
  "kernelspec": {
   "display_name": "Python 3 (ipykernel)",
   "language": "python",
   "name": "python3"
  },
  "language_info": {
   "codemirror_mode": {
    "name": "ipython",
    "version": 3
   },
   "file_extension": ".py",
   "mimetype": "text/x-python",
   "name": "python",
   "nbconvert_exporter": "python",
   "pygments_lexer": "ipython3",
   "version": "3.7.11"
  }
 },
 "nbformat": 4,
 "nbformat_minor": 5
}
